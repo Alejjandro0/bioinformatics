{
  "nbformat": 4,
  "nbformat_minor": 0,
  "metadata": {
    "colab": {
      "provenance": [],
      "collapsed_sections": []
    },
    "kernelspec": {
      "name": "python3",
      "display_name": "Python 3"
    },
    "language_info": {
      "name": "python"
    }
  },
  "cells": [
    {
      "cell_type": "code",
      "execution_count": 3,
      "metadata": {
        "colab": {
          "base_uri": "https://localhost:8080/"
        },
        "id": "FRN2G03gfxgJ",
        "outputId": "721257d6-ce2d-4215-c4d1-77cda9502c98"
      },
      "outputs": [
        {
          "output_type": "stream",
          "name": "stdout",
          "text": [
            "--2022-10-03 16:24:07--  ftp://ftp.ncbi.nlm.nih.gov/genomes/refseq/bacteria/Clostridium_botulinum/latest_assembly_versions/GCF_000017025.1_ASM1702v1/\n",
            "           => ‘GCF_000017025.1_ASM1702v1/.listing’\n",
            "Resolving ftp.ncbi.nlm.nih.gov (ftp.ncbi.nlm.nih.gov)... 165.112.9.228, 165.112.9.229, 2607:f220:41f:250::230, ...\n",
            "Connecting to ftp.ncbi.nlm.nih.gov (ftp.ncbi.nlm.nih.gov)|165.112.9.228|:21... connected.\n",
            "Logging in as anonymous ... Logged in!\n",
            "==> SYST ... done.    ==> PWD ... done.\n",
            "==> TYPE I ... done.  ==> CWD (1) /genomes/refseq/bacteria/Clostridium_botulinum/latest_assembly_versions/GCF_000017025.1_ASM1702v1 ... done.\n",
            "==> PASV ... done.    ==> LIST ... done.\n",
            "\n",
            "GCF_000017025.1_ASM     [ <=>                ]   1.61K  --.-KB/s    in 0.04s   \n",
            "\n",
            "2022-10-03 16:24:08 (40.0 KB/s) - ‘GCF_000017025.1_ASM1702v1/.listing’ saved [1649]\n",
            "\n",
            "Removed ‘GCF_000017025.1_ASM1702v1/.listing’.\n",
            "--2022-10-03 16:24:08--  ftp://ftp.ncbi.nlm.nih.gov/genomes/refseq/bacteria/Clostridium_botulinum/latest_assembly_versions/GCF_000017025.1_ASM1702v1/GCF_000017025.1_ASM1702v1_assembly_report.txt\n",
            "           => ‘GCF_000017025.1_ASM1702v1/GCF_000017025.1_ASM1702v1_assembly_report.txt’\n",
            "==> CWD not required.\n",
            "==> PASV ... done.    ==> RETR GCF_000017025.1_ASM1702v1_assembly_report.txt ... done.\n",
            "Length: 1184 (1.2K)\n",
            "\n",
            "GCF_000017025.1_ASM 100%[===================>]   1.16K  --.-KB/s    in 0.01s   \n",
            "\n",
            "2022-10-03 16:24:08 (103 KB/s) - ‘GCF_000017025.1_ASM1702v1/GCF_000017025.1_ASM1702v1_assembly_report.txt’ saved [1184]\n",
            "\n",
            "--2022-10-03 16:24:08--  ftp://ftp.ncbi.nlm.nih.gov/genomes/refseq/bacteria/Clostridium_botulinum/latest_assembly_versions/GCF_000017025.1_ASM1702v1/GCF_000017025.1_ASM1702v1_assembly_stats.txt\n",
            "           => ‘GCF_000017025.1_ASM1702v1/GCF_000017025.1_ASM1702v1_assembly_stats.txt’\n",
            "==> CWD not required.\n",
            "==> PASV ... done.    ==> RETR GCF_000017025.1_ASM1702v1_assembly_stats.txt ... done.\n",
            "Length: 5383 (5.3K)\n",
            "\n",
            "GCF_000017025.1_ASM 100%[===================>]   5.26K  --.-KB/s    in 0.01s   \n",
            "\n",
            "2022-10-03 16:24:08 (427 KB/s) - ‘GCF_000017025.1_ASM1702v1/GCF_000017025.1_ASM1702v1_assembly_stats.txt’ saved [5383]\n",
            "\n",
            "--2022-10-03 16:24:08--  ftp://ftp.ncbi.nlm.nih.gov/genomes/refseq/bacteria/Clostridium_botulinum/latest_assembly_versions/GCF_000017025.1_ASM1702v1/GCF_000017025.1_ASM1702v1_cds_from_genomic.fna.gz\n",
            "           => ‘GCF_000017025.1_ASM1702v1/GCF_000017025.1_ASM1702v1_cds_from_genomic.fna.gz’\n",
            "==> CWD not required.\n",
            "==> PASV ... done.    ==> RETR GCF_000017025.1_ASM1702v1_cds_from_genomic.fna.gz ... done.\n",
            "Length: 1074240 (1.0M)\n",
            "\n",
            "GCF_000017025.1_ASM 100%[===================>]   1.02M  --.-KB/s    in 0.1s    \n",
            "\n",
            "2022-10-03 16:24:08 (7.97 MB/s) - ‘GCF_000017025.1_ASM1702v1/GCF_000017025.1_ASM1702v1_cds_from_genomic.fna.gz’ saved [1074240]\n",
            "\n",
            "--2022-10-03 16:24:08--  ftp://ftp.ncbi.nlm.nih.gov/genomes/refseq/bacteria/Clostridium_botulinum/latest_assembly_versions/GCF_000017025.1_ASM1702v1/GCF_000017025.1_ASM1702v1_feature_count.txt.gz\n",
            "           => ‘GCF_000017025.1_ASM1702v1/GCF_000017025.1_ASM1702v1_feature_count.txt.gz’\n",
            "==> CWD not required.\n",
            "==> PASV ... done.    ==> RETR GCF_000017025.1_ASM1702v1_feature_count.txt.gz ... done.\n",
            "Length: 272\n",
            "\n",
            "GCF_000017025.1_ASM 100%[===================>]     272  --.-KB/s    in 0.02s   \n",
            "\n",
            "2022-10-03 16:24:08 (14.9 KB/s) - ‘GCF_000017025.1_ASM1702v1/GCF_000017025.1_ASM1702v1_feature_count.txt.gz’ saved [272]\n",
            "\n",
            "--2022-10-03 16:24:08--  ftp://ftp.ncbi.nlm.nih.gov/genomes/refseq/bacteria/Clostridium_botulinum/latest_assembly_versions/GCF_000017025.1_ASM1702v1/GCF_000017025.1_ASM1702v1_feature_table.txt.gz\n",
            "           => ‘GCF_000017025.1_ASM1702v1/GCF_000017025.1_ASM1702v1_feature_table.txt.gz’\n",
            "==> CWD not required.\n",
            "==> PASV ... done.    ==> RETR GCF_000017025.1_ASM1702v1_feature_table.txt.gz ... done.\n",
            "Length: 160601 (157K)\n",
            "\n",
            "GCF_000017025.1_ASM 100%[===================>] 156.84K  --.-KB/s    in 0.07s   \n",
            "\n",
            "2022-10-03 16:24:08 (2.06 MB/s) - ‘GCF_000017025.1_ASM1702v1/GCF_000017025.1_ASM1702v1_feature_table.txt.gz’ saved [160601]\n",
            "\n",
            "--2022-10-03 16:24:08--  ftp://ftp.ncbi.nlm.nih.gov/genomes/refseq/bacteria/Clostridium_botulinum/latest_assembly_versions/GCF_000017025.1_ASM1702v1/GCF_000017025.1_ASM1702v1_genomic.fna.gz\n",
            "           => ‘GCF_000017025.1_ASM1702v1/GCF_000017025.1_ASM1702v1_genomic.fna.gz’\n",
            "==> CWD not required.\n",
            "==> PASV ... done.    ==> RETR GCF_000017025.1_ASM1702v1_genomic.fna.gz ... done.\n",
            "Length: 1087883 (1.0M)\n",
            "\n",
            "GCF_000017025.1_ASM 100%[===================>]   1.04M  --.-KB/s    in 0.09s   \n",
            "\n",
            "2022-10-03 16:24:08 (11.0 MB/s) - ‘GCF_000017025.1_ASM1702v1/GCF_000017025.1_ASM1702v1_genomic.fna.gz’ saved [1087883]\n",
            "\n",
            "--2022-10-03 16:24:08--  ftp://ftp.ncbi.nlm.nih.gov/genomes/refseq/bacteria/Clostridium_botulinum/latest_assembly_versions/GCF_000017025.1_ASM1702v1/GCF_000017025.1_ASM1702v1_genomic.gbff.gz\n",
            "           => ‘GCF_000017025.1_ASM1702v1/GCF_000017025.1_ASM1702v1_genomic.gbff.gz’\n",
            "==> CWD not required.\n",
            "==> PASV ... done.    ==> RETR GCF_000017025.1_ASM1702v1_genomic.gbff.gz ... done.\n",
            "Length: 2657763 (2.5M)\n",
            "\n",
            "GCF_000017025.1_ASM 100%[===================>]   2.53M  15.8MB/s    in 0.2s    \n",
            "\n",
            "2022-10-03 16:24:09 (15.8 MB/s) - ‘GCF_000017025.1_ASM1702v1/GCF_000017025.1_ASM1702v1_genomic.gbff.gz’ saved [2657763]\n",
            "\n",
            "--2022-10-03 16:24:09--  ftp://ftp.ncbi.nlm.nih.gov/genomes/refseq/bacteria/Clostridium_botulinum/latest_assembly_versions/GCF_000017025.1_ASM1702v1/GCF_000017025.1_ASM1702v1_genomic.gff.gz\n",
            "           => ‘GCF_000017025.1_ASM1702v1/GCF_000017025.1_ASM1702v1_genomic.gff.gz’\n",
            "==> CWD not required.\n",
            "==> PASV ... done.    ==> RETR GCF_000017025.1_ASM1702v1_genomic.gff.gz ... done.\n",
            "Length: 272486 (266K)\n",
            "\n",
            "GCF_000017025.1_ASM 100%[===================>] 266.10K  --.-KB/s    in 0.08s   \n",
            "\n",
            "2022-10-03 16:24:09 (3.07 MB/s) - ‘GCF_000017025.1_ASM1702v1/GCF_000017025.1_ASM1702v1_genomic.gff.gz’ saved [272486]\n",
            "\n",
            "--2022-10-03 16:24:09--  ftp://ftp.ncbi.nlm.nih.gov/genomes/refseq/bacteria/Clostridium_botulinum/latest_assembly_versions/GCF_000017025.1_ASM1702v1/GCF_000017025.1_ASM1702v1_genomic.gtf.gz\n",
            "           => ‘GCF_000017025.1_ASM1702v1/GCF_000017025.1_ASM1702v1_genomic.gtf.gz’\n",
            "==> CWD not required.\n",
            "==> PASV ... done.    ==> RETR GCF_000017025.1_ASM1702v1_genomic.gtf.gz ... done.\n",
            "Length: 326617 (319K)\n",
            "\n",
            "GCF_000017025.1_ASM 100%[===================>] 318.96K  --.-KB/s    in 0.07s   \n",
            "\n",
            "2022-10-03 16:24:09 (4.47 MB/s) - ‘GCF_000017025.1_ASM1702v1/GCF_000017025.1_ASM1702v1_genomic.gtf.gz’ saved [326617]\n",
            "\n",
            "--2022-10-03 16:24:09--  ftp://ftp.ncbi.nlm.nih.gov/genomes/refseq/bacteria/Clostridium_botulinum/latest_assembly_versions/GCF_000017025.1_ASM1702v1/GCF_000017025.1_ASM1702v1_protein.faa.gz\n",
            "           => ‘GCF_000017025.1_ASM1702v1/GCF_000017025.1_ASM1702v1_protein.faa.gz’\n",
            "==> CWD not required.\n",
            "==> PASV ... done.    ==> RETR GCF_000017025.1_ASM1702v1_protein.faa.gz ... done.\n",
            "Length: 683645 (668K)\n",
            "\n",
            "GCF_000017025.1_ASM 100%[===================>] 667.62K  --.-KB/s    in 0.1s    \n",
            "\n",
            "2022-10-03 16:24:09 (4.65 MB/s) - ‘GCF_000017025.1_ASM1702v1/GCF_000017025.1_ASM1702v1_protein.faa.gz’ saved [683645]\n",
            "\n",
            "--2022-10-03 16:24:09--  ftp://ftp.ncbi.nlm.nih.gov/genomes/refseq/bacteria/Clostridium_botulinum/latest_assembly_versions/GCF_000017025.1_ASM1702v1/GCF_000017025.1_ASM1702v1_protein.gpff.gz\n",
            "           => ‘GCF_000017025.1_ASM1702v1/GCF_000017025.1_ASM1702v1_protein.gpff.gz’\n",
            "==> CWD not required.\n",
            "==> PASV ... done.    ==> RETR GCF_000017025.1_ASM1702v1_protein.gpff.gz ... done.\n",
            "Length: 1783411 (1.7M)\n",
            "\n",
            "GCF_000017025.1_ASM 100%[===================>]   1.70M  --.-KB/s    in 0.1s    \n",
            "\n",
            "2022-10-03 16:24:09 (12.4 MB/s) - ‘GCF_000017025.1_ASM1702v1/GCF_000017025.1_ASM1702v1_protein.gpff.gz’ saved [1783411]\n",
            "\n",
            "--2022-10-03 16:24:09--  ftp://ftp.ncbi.nlm.nih.gov/genomes/refseq/bacteria/Clostridium_botulinum/latest_assembly_versions/GCF_000017025.1_ASM1702v1/GCF_000017025.1_ASM1702v1_rna_from_genomic.fna.gz\n",
            "           => ‘GCF_000017025.1_ASM1702v1/GCF_000017025.1_ASM1702v1_rna_from_genomic.fna.gz’\n",
            "==> CWD not required.\n",
            "==> PASV ... done.    ==> RETR GCF_000017025.1_ASM1702v1_rna_from_genomic.fna.gz ... done.\n",
            "Length: 6136 (6.0K)\n",
            "\n",
            "GCF_000017025.1_ASM 100%[===================>]   5.99K  --.-KB/s    in 0.02s   \n",
            "\n",
            "2022-10-03 16:24:09 (345 KB/s) - ‘GCF_000017025.1_ASM1702v1/GCF_000017025.1_ASM1702v1_rna_from_genomic.fna.gz’ saved [6136]\n",
            "\n",
            "--2022-10-03 16:24:09--  ftp://ftp.ncbi.nlm.nih.gov/genomes/refseq/bacteria/Clostridium_botulinum/latest_assembly_versions/GCF_000017025.1_ASM1702v1/GCF_000017025.1_ASM1702v1_translated_cds.faa.gz\n",
            "           => ‘GCF_000017025.1_ASM1702v1/GCF_000017025.1_ASM1702v1_translated_cds.faa.gz’\n",
            "==> CWD not required.\n",
            "==> PASV ... done.    ==> RETR GCF_000017025.1_ASM1702v1_translated_cds.faa.gz ... done.\n",
            "Length: 788410 (770K)\n",
            "\n",
            "GCF_000017025.1_ASM 100%[===================>] 769.93K  3.78MB/s    in 0.2s    \n",
            "\n",
            "2022-10-03 16:24:10 (3.78 MB/s) - ‘GCF_000017025.1_ASM1702v1/GCF_000017025.1_ASM1702v1_translated_cds.faa.gz’ saved [788410]\n",
            "\n",
            "--2022-10-03 16:24:10--  ftp://ftp.ncbi.nlm.nih.gov/genomes/refseq/bacteria/Clostridium_botulinum/latest_assembly_versions/GCF_000017025.1_ASM1702v1/README.txt\n",
            "           => ‘GCF_000017025.1_ASM1702v1/README.txt’\n",
            "==> CWD not required.\n",
            "==> SIZE README.txt ... 44529\n",
            "==> PASV ... done.    ==> RETR README.txt ... done.\n",
            "Length: 44529 (43K) (unauthoritative)\n",
            "\n",
            "GCF_000017025.1_ASM 100%[===================>]  43.49K  --.-KB/s    in 0.01s   \n",
            "\n",
            "2022-10-03 16:24:10 (3.10 MB/s) - ‘GCF_000017025.1_ASM1702v1/README.txt’ saved [44529]\n",
            "\n",
            "--2022-10-03 16:24:10--  ftp://ftp.ncbi.nlm.nih.gov/genomes/refseq/bacteria/Clostridium_botulinum/latest_assembly_versions/GCF_000017025.1_ASM1702v1/annotation_hashes.txt\n",
            "           => ‘GCF_000017025.1_ASM1702v1/annotation_hashes.txt’\n",
            "==> CWD not required.\n",
            "==> PASV ... done.    ==> RETR annotation_hashes.txt ... done.\n",
            "Length: 410\n",
            "\n",
            "GCF_000017025.1_ASM 100%[===================>]     410  --.-KB/s    in 0.01s   \n",
            "\n",
            "2022-10-03 16:24:10 (37.6 KB/s) - ‘GCF_000017025.1_ASM1702v1/annotation_hashes.txt’ saved [410]\n",
            "\n",
            "--2022-10-03 16:24:10--  ftp://ftp.ncbi.nlm.nih.gov/genomes/refseq/bacteria/Clostridium_botulinum/latest_assembly_versions/GCF_000017025.1_ASM1702v1/assembly_status.txt\n",
            "           => ‘GCF_000017025.1_ASM1702v1/assembly_status.txt’\n",
            "==> CWD not required.\n",
            "==> PASV ... done.    ==> RETR assembly_status.txt ... done.\n",
            "Length: 14\n",
            "\n",
            "GCF_000017025.1_ASM 100%[===================>]      14  --.-KB/s    in 0s      \n",
            "\n",
            "2022-10-03 16:24:10 (107 KB/s) - ‘GCF_000017025.1_ASM1702v1/assembly_status.txt’ saved [14]\n",
            "\n",
            "--2022-10-03 16:24:10--  ftp://ftp.ncbi.nlm.nih.gov/genomes/refseq/bacteria/Clostridium_botulinum/latest_assembly_versions/GCF_000017025.1_ASM1702v1/md5checksums.txt\n",
            "           => ‘GCF_000017025.1_ASM1702v1/md5checksums.txt’\n",
            "==> CWD not required.\n",
            "==> PASV ... done.    ==> RETR md5checksums.txt ... done.\n",
            "Length: 1107 (1.1K)\n",
            "\n",
            "GCF_000017025.1_ASM 100%[===================>]   1.08K  --.-KB/s    in 0.02s   \n",
            "\n",
            "2022-10-03 16:24:10 (68.6 KB/s) - ‘GCF_000017025.1_ASM1702v1/md5checksums.txt’ saved [1107]\n",
            "\n",
            "FINISHED --2022-10-03 16:24:10--\n",
            "Total wall clock time: 2.4s\n",
            "Downloaded: 17 files, 8.5M in 1.2s (6.91 MB/s)\n"
          ]
        }
      ],
      "source": [
        "!wget -r -nH --cut-dirs=5 ftp://ftp.ncbi.nlm.nih.gov/genomes/refseq/bacteria/Clostridium_botulinum/latest_assembly_versions/GCF_000017025.1_ASM1702v1/\n",
        "!gzip -rd * ./GCF_000017025.1_ASM1702v1/"
      ]
    },
    {
      "cell_type": "code",
      "source": [
        "!pwd"
      ],
      "metadata": {
        "colab": {
          "base_uri": "https://localhost:8080/"
        },
        "id": "qQshKSMYt6yl",
        "outputId": "d9e42866-24da-4af1-97b0-94261e2bb4d2"
      },
      "execution_count": 4,
      "outputs": [
        {
          "output_type": "stream",
          "name": "stdout",
          "text": [
            "/content\n"
          ]
        }
      ]
    },
    {
      "cell_type": "code",
      "source": [
        "%cd GCF_000017025.1_ASM1702v1"
      ],
      "metadata": {
        "id": "OXQN0MXzmaxN",
        "colab": {
          "base_uri": "https://localhost:8080/"
        },
        "outputId": "dcfd70bc-50c5-4c89-ac7c-299b03d53587"
      },
      "execution_count": 5,
      "outputs": [
        {
          "output_type": "stream",
          "name": "stdout",
          "text": [
            "/content/GCF_000017025.1_ASM1702v1\n"
          ]
        }
      ]
    },
    {
      "cell_type": "code",
      "source": [
        "!pwd"
      ],
      "metadata": {
        "colab": {
          "base_uri": "https://localhost:8080/"
        },
        "id": "D5_GQ3iqmoUr",
        "outputId": "3437d0ac-7f1a-49e1-d802-c675c43b00e3"
      },
      "execution_count": 6,
      "outputs": [
        {
          "output_type": "stream",
          "name": "stdout",
          "text": [
            "/content/GCF_000017025.1_ASM1702v1\n"
          ]
        }
      ]
    },
    {
      "cell_type": "markdown",
      "source": [
        "1. Длина генома: 3911744 - 48294 = 3863450\n",
        "\n",
        "\n"
      ],
      "metadata": {
        "id": "3EmC4SScmufR"
      }
    },
    {
      "cell_type": "code",
      "source": [
        "!cat GCF_000017025.1_ASM1702v1_genomic.fna | awk \"!/>/\" | wc -c -l"
      ],
      "metadata": {
        "colab": {
          "base_uri": "https://localhost:8080/"
        },
        "id": "TzQXKwVQmFka",
        "outputId": "1eb42473-e90b-4731-c7ae-7159711c9a8e"
      },
      "execution_count": 7,
      "outputs": [
        {
          "output_type": "stream",
          "name": "stdout",
          "text": [
            "  48294 3911744\n"
          ]
        }
      ]
    },
    {
      "cell_type": "markdown",
      "source": [
        "2. Число генов, кодирующих белки - 3476"
      ],
      "metadata": {
        "id": "3aRjV8u9omWN"
      }
    },
    {
      "cell_type": "code",
      "source": [
        "!cat GCF_000017025.1_ASM1702v1_feature_table.txt | grep gene | grep protein_coding | wc -l"
      ],
      "metadata": {
        "colab": {
          "base_uri": "https://localhost:8080/"
        },
        "id": "nx4eUwCtmN-I",
        "outputId": "44fdcb0e-5544-4444-8cae-c4ab62184840"
      },
      "execution_count": 8,
      "outputs": [
        {
          "output_type": "stream",
          "name": "stdout",
          "text": [
            "3476\n"
          ]
        }
      ]
    },
    {
      "cell_type": "markdown",
      "source": [
        "3. Число рнк-генов - 109\n"
      ],
      "metadata": {
        "id": "rrVB2EFlo31x"
      }
    },
    {
      "cell_type": "code",
      "source": [
        "!cat GCF_000017025.1_ASM1702v1_feature_table.txt | grep gene | grep RNA | wc -l"
      ],
      "metadata": {
        "colab": {
          "base_uri": "https://localhost:8080/"
        },
        "id": "4nkjCxZamRs_",
        "outputId": "a480fa84-b06a-4a00-a358-a3c6a027e97d"
      },
      "execution_count": 9,
      "outputs": [
        {
          "output_type": "stream",
          "name": "stdout",
          "text": [
            "109\n"
          ]
        }
      ]
    },
    {
      "cell_type": "markdown",
      "source": [
        "4. Число транскрипционных факторов - 33"
      ],
      "metadata": {
        "id": "On-PFXHIp0xf"
      }
    },
    {
      "cell_type": "code",
      "source": [
        "!cat GCF_000017025.1_ASM1702v1_feature_table.txt | grep \"transcription factor\"| wc -l"
      ],
      "metadata": {
        "colab": {
          "base_uri": "https://localhost:8080/"
        },
        "id": "yGk1jdcamV_s",
        "outputId": "ac4301a0-8ee9-4e87-db7b-60a1a892d7fe"
      },
      "execution_count": 10,
      "outputs": [
        {
          "output_type": "stream",
          "name": "stdout",
          "text": [
            "33\n"
          ]
        }
      ]
    },
    {
      "cell_type": "markdown",
      "source": [
        "5. Число транспортных белков (ABC transporters) - 199"
      ],
      "metadata": {
        "id": "B1cpF66IqCSv"
      }
    },
    {
      "cell_type": "code",
      "source": [
        "!cat GCF_000017025.1_ASM1702v1_feature_table.txt | grep \"ABC transporter\"| wc -l"
      ],
      "metadata": {
        "colab": {
          "base_uri": "https://localhost:8080/"
        },
        "id": "DYlldHWPmYda",
        "outputId": "07579495-786e-4922-c3c1-c84a0899868f"
      },
      "execution_count": 11,
      "outputs": [
        {
          "output_type": "stream",
          "name": "stdout",
          "text": [
            "199\n"
          ]
        }
      ]
    },
    {
      "cell_type": "markdown",
      "source": [
        "6. Число tRNA - 81"
      ],
      "metadata": {
        "id": "t-BrMxbyqL0t"
      }
    },
    {
      "cell_type": "code",
      "source": [
        "!cat GCF_000017025.1_ASM1702v1_feature_table.txt | grep \"tRNA\"| grep \"anticodon\"| wc -l"
      ],
      "metadata": {
        "colab": {
          "base_uri": "https://localhost:8080/"
        },
        "id": "O5RphinFmaps",
        "outputId": "340ebd17-7384-41da-f5f3-86b33c59052f"
      },
      "execution_count": 12,
      "outputs": [
        {
          "output_type": "stream",
          "name": "stdout",
          "text": [
            "81\n"
          ]
        }
      ]
    },
    {
      "cell_type": "markdown",
      "source": [
        "7. Число закодированных субъединиц АTP-synthase - 17"
      ],
      "metadata": {
        "id": "0mSbQcowqRY_"
      }
    },
    {
      "cell_type": "code",
      "source": [
        "!cat GCF_000017025.1_ASM1702v1_feature_table.txt | grep \"ATP synthase\" | grep \"subunit\"| wc -l"
      ],
      "metadata": {
        "colab": {
          "base_uri": "https://localhost:8080/"
        },
        "id": "96Uk2Tx_mcvn",
        "outputId": "774c8977-3040-4a41-b994-9d4795768ffb"
      },
      "execution_count": 13,
      "outputs": [
        {
          "output_type": "stream",
          "name": "stdout",
          "text": [
            "17\n"
          ]
        }
      ]
    },
    {
      "cell_type": "markdown",
      "source": [
        "8.1 Число генов закодировано на положительном стренде: 1638"
      ],
      "metadata": {
        "id": "Q4p2bHTTqc8D"
      }
    },
    {
      "cell_type": "code",
      "source": [
        "!cat GCF_000017025.1_ASM1702v1_feature_table.txt | grep gene | grep '+'| wc -l"
      ],
      "metadata": {
        "colab": {
          "base_uri": "https://localhost:8080/"
        },
        "id": "TcbhaahlmfP7",
        "outputId": "d622d382-0759-40c1-cf00-dac24cd895b2"
      },
      "execution_count": 14,
      "outputs": [
        {
          "output_type": "stream",
          "name": "stdout",
          "text": [
            "1638\n"
          ]
        }
      ]
    },
    {
      "cell_type": "markdown",
      "source": [
        "8.2 Число генов закодировано на отрицательном стренде: 1994"
      ],
      "metadata": {
        "id": "PQ7pz2_mqgEO"
      }
    },
    {
      "cell_type": "code",
      "source": [
        "!cat GCF_000017025.1_ASM1702v1_feature_table.txt | grep gene | grep '-'| wc -l"
      ],
      "metadata": {
        "colab": {
          "base_uri": "https://localhost:8080/"
        },
        "id": "tyMYfmzumkFD",
        "outputId": "5c94a1b1-dabc-4074-ce71-13232c4672ec"
      },
      "execution_count": 15,
      "outputs": [
        {
          "output_type": "stream",
          "name": "stdout",
          "text": [
            "1994\n"
          ]
        }
      ]
    },
    {
      "cell_type": "code",
      "source": [
        "!cat GCF_000017025.1_ASM1702v1_feature_table.txt | grep gene | grep '-'|grep '+'| wc -l"
      ],
      "metadata": {
        "colab": {
          "base_uri": "https://localhost:8080/"
        },
        "id": "h1-Fj5sH9I1V",
        "outputId": "d7df7a16-a357-45e9-cc27-0f768ebe5cd9"
      },
      "execution_count": 16,
      "outputs": [
        {
          "output_type": "stream",
          "name": "stdout",
          "text": [
            "0\n"
          ]
        }
      ]
    }
  ]
}